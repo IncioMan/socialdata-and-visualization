{
 "cells": [
  {
   "cell_type": "markdown",
   "metadata": {},
   "source": [
    "# Anscombe's quartet analysis"
   ]
  },
  {
   "cell_type": "code",
   "execution_count": 118,
   "metadata": {},
   "outputs": [],
   "source": [
    "import urllib.request, os\n",
    "import pandas as pd\n",
    "import numpy as np"
   ]
  },
  {
   "cell_type": "markdown",
   "metadata": {},
   "source": [
    "## Download Dataset"
   ]
  },
  {
   "cell_type": "code",
   "execution_count": 119,
   "metadata": {},
   "outputs": [],
   "source": [
    "dest_file = os.getcwd() + \"/Data{index}.tsv\"\n",
    "for i in range(1,5):\n",
    "    urllib.request.urlretrieve(f\"https://raw.githubusercontent.com/suneman/socialdataanalysis2019/master/files/data{i}.tsv\", dest_file.format(index=i))"
   ]
  },
  {
   "cell_type": "markdown",
   "metadata": {},
   "source": [
    "## Calculate mean"
   ]
  },
  {
   "cell_type": "code",
   "execution_count": 120,
   "metadata": {},
   "outputs": [
    {
     "name": "stdout",
     "output_type": "stream",
     "text": [
      "Dataset 1 X-axis: 9.00, Y-axis: 7.50\n",
      "Dataset 2 X-axis: 9.00, Y-axis: 7.50\n",
      "Dataset 3 X-axis: 9.00, Y-axis: 7.50\n",
      "Dataset 4 X-axis: 9.00, Y-axis: 7.50\n"
     ]
    }
   ],
   "source": [
    "for i in range(1,5):\n",
    "    df = pd.read_csv(dest_file.format(index=i), sep=\"\\t\", header=None)\n",
    "    print(f\"Dataset {i} X-axis: {format(np.mean(df[0]), '2.2f')}, Y-axis: {format(np.mean(df[1]), '2.2f')}\")"
   ]
  },
  {
   "cell_type": "markdown",
   "metadata": {},
   "source": [
    "## Calculate variance"
   ]
  },
  {
   "cell_type": "code",
   "execution_count": 121,
   "metadata": {},
   "outputs": [
    {
     "name": "stdout",
     "output_type": "stream",
     "text": [
      "Dataset 1 X-axis: 10.000, Y-axis: 3.752\n",
      "Dataset 2 X-axis: 10.000, Y-axis: 3.752\n",
      "Dataset 3 X-axis: 10.000, Y-axis: 3.748\n",
      "Dataset 4 X-axis: 10.000, Y-axis: 3.748\n"
     ]
    }
   ],
   "source": [
    "for i in range(1,5):\n",
    "    df = pd.read_csv(dest_file.format(index=i), sep=\"\\t\", header=None)\n",
    "    print(f\"Dataset {i} X-axis: {format(np.var(df[0]), '2.3f')}, Y-axis: {format(np.var(df[1]), '2.3f')}\")"
   ]
  },
  {
   "cell_type": "markdown",
   "metadata": {},
   "source": [
    "## Calculate correlation"
   ]
  },
  {
   "cell_type": "code",
   "execution_count": 122,
   "metadata": {},
   "outputs": [
    {
     "name": "stdout",
     "output_type": "stream",
     "text": [
      "Dataset 1 Pearson coefficient: 0.816\n",
      "Dataset 2 Pearson coefficient: 0.816\n",
      "Dataset 3 Pearson coefficient: 0.816\n",
      "Dataset 4 Pearson coefficient: 0.817\n"
     ]
    }
   ],
   "source": [
    "for i in range(1,5):\n",
    "    df = pd.read_csv(dest_file.format(index=i), sep=\"\\t\", header=None)\n",
    "    print(f\"Dataset {i} Pearson coefficient: {format(np.corrcoef(df[0], df[1])[0][1], '2.3f')}\")"
   ]
  },
  {
   "cell_type": "markdown",
   "metadata": {},
   "source": [
    "## Compute Linear Regression"
   ]
  },
  {
   "cell_type": "code",
   "execution_count": 123,
   "metadata": {},
   "outputs": [
    {
     "name": "stdout",
     "output_type": "stream",
     "text": [
      "Dataset 1: slope 0.50 intercept 3.00\n",
      "Dataset 2: slope 0.50 intercept 3.00\n",
      "Dataset 3: slope 0.50 intercept 3.00\n",
      "Dataset 4: slope 0.50 intercept 3.00\n"
     ]
    }
   ],
   "source": [
    "from scipy import stats\n",
    "for i in range(1,5):\n",
    "    df = pd.read_csv(dest_file.format(index=i), sep=\"\\t\", header=None)\n",
    "    slope, intercept, r_value, p_value, std_err = stats.linregress(df[0],df[1])\n",
    "    print(f\"Dataset {i}: slope {format(slope,'2.2f')} intercept {format(intercept,'2.2f')}\")"
   ]
  },
  {
   "cell_type": "markdown",
   "metadata": {},
   "source": [
    "## Plot"
   ]
  },
  {
   "cell_type": "code",
   "execution_count": 124,
   "metadata": {},
   "outputs": [
    {
     "data": {
      "image/png": "[encoded data removed]",
      "text/plain": [
       "<Figure size 432x288 with 4 Axes>"
      ]
     },
     "metadata": {
      "needs_background": "light"
     },
     "output_type": "display_data"
    }
   ],
   "source": [
    "import matplotlib.pyplot as plt\n",
    "for i in range(1,5):\n",
    "    df = pd.read_csv(dest_file.format(index=i), sep=\"\\t\", header=None)\n",
    "    slope, intercept, r_value, p_value, std_err = stats.linregress(df[0],df[1])\n",
    "    axes = plt.subplot(2, 2, i)\n",
    "    axes.set_xlim([0,20])\n",
    "    axes.set_ylim([0,20])\n",
    "    plt.plot(df[0], df[1], 'ko', df[0], slope*df[0]+intercept, '--r')\n",
    "plt.show()"
   ]
  }
 ],
 "metadata": {
  "kernelspec": {
   "display_name": "Python 3",
   "language": "python",
   "name": "python3"
  },
  "language_info": {
   "codemirror_mode": {
    "name": "ipython",
    "version": 3
   },
   "file_extension": ".py",
   "mimetype": "text/x-python",
   "name": "python",
   "nbconvert_exporter": "python",
   "pygments_lexer": "ipython3",
   "version": "3.7.1"
  }
 },
 "nbformat": 4,
 "nbformat_minor": 2
}
