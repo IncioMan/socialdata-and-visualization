{
 "cells": [
  {
   "cell_type": "code",
   "execution_count": 2,
   "metadata": {},
   "outputs": [],
   "source": [
    "import pandas as pd"
   ]
  },
  {
   "cell_type": "code",
   "execution_count": 3,
   "metadata": {},
   "outputs": [],
   "source": [
    "data = pd.read_csv(\"/Users/ainc/Documents/Police_Department_Incident_Reports__Historical_2003_to_May_2018.csv\",\n",
    "                   parse_dates=['Date'])"
   ]
  },
  {
   "cell_type": "code",
   "execution_count": 4,
   "metadata": {},
   "outputs": [
    {
     "data": {
      "text/html": [
       "<div>\n",
       "<style scoped>\n",
       "    .dataframe tbody tr th:only-of-type {\n",
       "        vertical-align: middle;\n",
       "    }\n",
       "\n",
       "    .dataframe tbody tr th {\n",
       "        vertical-align: top;\n",
       "    }\n",
       "\n",
       "    .dataframe thead th {\n",
       "        text-align: right;\n",
       "    }\n",
       "</style>\n",
       "<table border=\"1\" class=\"dataframe\">\n",
       "  <thead>\n",
       "    <tr style=\"text-align: right;\">\n",
       "      <th></th>\n",
       "      <th>IncidntNum</th>\n",
       "      <th>Category</th>\n",
       "      <th>Descript</th>\n",
       "      <th>DayOfWeek</th>\n",
       "      <th>Date</th>\n",
       "      <th>Time</th>\n",
       "      <th>PdDistrict</th>\n",
       "      <th>Resolution</th>\n",
       "      <th>Address</th>\n",
       "      <th>X</th>\n",
       "      <th>Y</th>\n",
       "      <th>Location</th>\n",
       "      <th>PdId</th>\n",
       "    </tr>\n",
       "  </thead>\n",
       "  <tbody>\n",
       "    <tr>\n",
       "      <th>0</th>\n",
       "      <td>150060275</td>\n",
       "      <td>NON-CRIMINAL</td>\n",
       "      <td>LOST PROPERTY</td>\n",
       "      <td>Monday</td>\n",
       "      <td>2015-01-19</td>\n",
       "      <td>14:00</td>\n",
       "      <td>MISSION</td>\n",
       "      <td>NONE</td>\n",
       "      <td>18TH ST / VALENCIA ST</td>\n",
       "      <td>-122.421582</td>\n",
       "      <td>37.761701</td>\n",
       "      <td>(37.7617007179518, -122.42158168137)</td>\n",
       "      <td>15006027571000</td>\n",
       "    </tr>\n",
       "    <tr>\n",
       "      <th>1</th>\n",
       "      <td>150098210</td>\n",
       "      <td>ROBBERY</td>\n",
       "      <td>ROBBERY, BODILY FORCE</td>\n",
       "      <td>Sunday</td>\n",
       "      <td>2015-02-01</td>\n",
       "      <td>15:45</td>\n",
       "      <td>TENDERLOIN</td>\n",
       "      <td>NONE</td>\n",
       "      <td>300 Block of LEAVENWORTH ST</td>\n",
       "      <td>-122.414406</td>\n",
       "      <td>37.784191</td>\n",
       "      <td>(37.7841907151119, -122.414406029855)</td>\n",
       "      <td>15009821003074</td>\n",
       "    </tr>\n",
       "    <tr>\n",
       "      <th>2</th>\n",
       "      <td>150098210</td>\n",
       "      <td>ASSAULT</td>\n",
       "      <td>AGGRAVATED ASSAULT WITH BODILY FORCE</td>\n",
       "      <td>Sunday</td>\n",
       "      <td>2015-02-01</td>\n",
       "      <td>15:45</td>\n",
       "      <td>TENDERLOIN</td>\n",
       "      <td>NONE</td>\n",
       "      <td>300 Block of LEAVENWORTH ST</td>\n",
       "      <td>-122.414406</td>\n",
       "      <td>37.784191</td>\n",
       "      <td>(37.7841907151119, -122.414406029855)</td>\n",
       "      <td>15009821004014</td>\n",
       "    </tr>\n",
       "    <tr>\n",
       "      <th>3</th>\n",
       "      <td>150098210</td>\n",
       "      <td>SECONDARY CODES</td>\n",
       "      <td>DOMESTIC VIOLENCE</td>\n",
       "      <td>Sunday</td>\n",
       "      <td>2015-02-01</td>\n",
       "      <td>15:45</td>\n",
       "      <td>TENDERLOIN</td>\n",
       "      <td>NONE</td>\n",
       "      <td>300 Block of LEAVENWORTH ST</td>\n",
       "      <td>-122.414406</td>\n",
       "      <td>37.784191</td>\n",
       "      <td>(37.7841907151119, -122.414406029855)</td>\n",
       "      <td>15009821015200</td>\n",
       "    </tr>\n",
       "    <tr>\n",
       "      <th>4</th>\n",
       "      <td>150098226</td>\n",
       "      <td>VANDALISM</td>\n",
       "      <td>MALICIOUS MISCHIEF, VANDALISM OF VEHICLES</td>\n",
       "      <td>Tuesday</td>\n",
       "      <td>2015-01-27</td>\n",
       "      <td>19:00</td>\n",
       "      <td>NORTHERN</td>\n",
       "      <td>NONE</td>\n",
       "      <td>LOMBARD ST / LAGUNA ST</td>\n",
       "      <td>-122.431119</td>\n",
       "      <td>37.800469</td>\n",
       "      <td>(37.8004687042875, -122.431118543788)</td>\n",
       "      <td>15009822628160</td>\n",
       "    </tr>\n",
       "  </tbody>\n",
       "</table>\n",
       "</div>"
      ],
      "text/plain": [
       "   IncidntNum         Category                                   Descript  \\\n",
       "0   150060275     NON-CRIMINAL                              LOST PROPERTY   \n",
       "1   150098210          ROBBERY                      ROBBERY, BODILY FORCE   \n",
       "2   150098210          ASSAULT       AGGRAVATED ASSAULT WITH BODILY FORCE   \n",
       "3   150098210  SECONDARY CODES                          DOMESTIC VIOLENCE   \n",
       "4   150098226        VANDALISM  MALICIOUS MISCHIEF, VANDALISM OF VEHICLES   \n",
       "\n",
       "  DayOfWeek       Date   Time  PdDistrict Resolution  \\\n",
       "0    Monday 2015-01-19  14:00     MISSION       NONE   \n",
       "1    Sunday 2015-02-01  15:45  TENDERLOIN       NONE   \n",
       "2    Sunday 2015-02-01  15:45  TENDERLOIN       NONE   \n",
       "3    Sunday 2015-02-01  15:45  TENDERLOIN       NONE   \n",
       "4   Tuesday 2015-01-27  19:00    NORTHERN       NONE   \n",
       "\n",
       "                       Address           X          Y  \\\n",
       "0        18TH ST / VALENCIA ST -122.421582  37.761701   \n",
       "1  300 Block of LEAVENWORTH ST -122.414406  37.784191   \n",
       "2  300 Block of LEAVENWORTH ST -122.414406  37.784191   \n",
       "3  300 Block of LEAVENWORTH ST -122.414406  37.784191   \n",
       "4       LOMBARD ST / LAGUNA ST -122.431119  37.800469   \n",
       "\n",
       "                                Location            PdId  \n",
       "0   (37.7617007179518, -122.42158168137)  15006027571000  \n",
       "1  (37.7841907151119, -122.414406029855)  15009821003074  \n",
       "2  (37.7841907151119, -122.414406029855)  15009821004014  \n",
       "3  (37.7841907151119, -122.414406029855)  15009821015200  \n",
       "4  (37.8004687042875, -122.431118543788)  15009822628160  "
      ]
     },
     "execution_count": 4,
     "metadata": {},
     "output_type": "execute_result"
    }
   ],
   "source": [
    "data.head()"
   ]
  },
  {
   "cell_type": "markdown",
   "metadata": {},
   "source": [
    "### Columns of the dataset"
   ]
  },
  {
   "cell_type": "code",
   "execution_count": 5,
   "metadata": {},
   "outputs": [
    {
     "data": {
      "text/plain": [
       "array(['IncidntNum', 'Category', 'Descript', 'DayOfWeek', 'Date', 'Time',\n",
       "       'PdDistrict', 'Resolution', 'Address', 'X', 'Y', 'Location',\n",
       "       'PdId'], dtype=object)"
      ]
     },
     "execution_count": 5,
     "metadata": {},
     "output_type": "execute_result"
    }
   ],
   "source": [
    "data.columns.values"
   ]
  },
  {
   "cell_type": "markdown",
   "metadata": {},
   "source": [
    "### Total number of incidents in the dataset"
   ]
  },
  {
   "cell_type": "code",
   "execution_count": 6,
   "metadata": {},
   "outputs": [
    {
     "data": {
      "text/plain": [
       "1746914"
      ]
     },
     "execution_count": 6,
     "metadata": {},
     "output_type": "execute_result"
    }
   ],
   "source": [
    "data['IncidntNum'].nunique()"
   ]
  },
  {
   "cell_type": "markdown",
   "metadata": {},
   "source": [
    "### Use pandas to list and then count all the different categories of crime in the dataset. How many are there?"
   ]
  },
  {
   "cell_type": "code",
   "execution_count": 7,
   "metadata": {},
   "outputs": [
    {
     "name": "stdout",
     "output_type": "stream",
     "text": [
      "39\n",
      "['NON-CRIMINAL' 'ROBBERY' 'ASSAULT' 'SECONDARY CODES' 'VANDALISM'\n",
      " 'BURGLARY' 'LARCENY/THEFT' 'DRUG/NARCOTIC' 'WARRANTS' 'VEHICLE THEFT'\n",
      " 'OTHER OFFENSES' 'WEAPON LAWS' 'ARSON' 'MISSING PERSON'\n",
      " 'DRIVING UNDER THE INFLUENCE' 'SUSPICIOUS OCC' 'RECOVERED VEHICLE'\n",
      " 'DRUNKENNESS' 'TRESPASS' 'FRAUD' 'DISORDERLY CONDUCT'\n",
      " 'SEX OFFENSES, FORCIBLE' 'FORGERY/COUNTERFEITING' 'KIDNAPPING'\n",
      " 'EMBEZZLEMENT' 'STOLEN PROPERTY' 'LIQUOR LAWS' 'FAMILY OFFENSES'\n",
      " 'LOITERING' 'BAD CHECKS' 'TREA' 'GAMBLING' 'RUNAWAY' 'BRIBERY'\n",
      " 'PROSTITUTION' 'PORNOGRAPHY/OBSCENE MAT' 'SEX OFFENSES, NON FORCIBLE'\n",
      " 'SUICIDE' 'EXTORTION']\n"
     ]
    }
   ],
   "source": [
    "print(data['Category'].nunique())\n",
    "print(data['Category'].unique())"
   ]
  },
  {
   "cell_type": "markdown",
   "metadata": {},
   "source": [
    "### Now count the number of occurrences of each category in the dataset. What is the most commonly occurring category of crime? What is the least frequently occurring?"
   ]
  },
  {
   "cell_type": "code",
   "execution_count": 8,
   "metadata": {},
   "outputs": [
    {
     "data": {
      "text/plain": [
       "LARCENY/THEFT                  480448\n",
       "OTHER OFFENSES                 309358\n",
       "NON-CRIMINAL                   238323\n",
       "ASSAULT                        194694\n",
       "VEHICLE THEFT                  126602\n",
       "DRUG/NARCOTIC                  119628\n",
       "VANDALISM                      116059\n",
       "WARRANTS                       101379\n",
       "BURGLARY                        91543\n",
       "SUSPICIOUS OCC                  80444\n",
       "MISSING PERSON                  64961\n",
       "ROBBERY                         55867\n",
       "FRAUD                           41542\n",
       "SECONDARY CODES                 25831\n",
       "FORGERY/COUNTERFEITING          23050\n",
       "WEAPON LAWS                     22234\n",
       "TRESPASS                        19449\n",
       "PROSTITUTION                    16701\n",
       "STOLEN PROPERTY                 11891\n",
       "SEX OFFENSES, FORCIBLE          11742\n",
       "DISORDERLY CONDUCT              10040\n",
       "DRUNKENNESS                      9826\n",
       "RECOVERED VEHICLE                8716\n",
       "DRIVING UNDER THE INFLUENCE      5672\n",
       "KIDNAPPING                       5346\n",
       "RUNAWAY                          4440\n",
       "LIQUOR LAWS                      4083\n",
       "ARSON                            3931\n",
       "EMBEZZLEMENT                     2988\n",
       "LOITERING                        2430\n",
       "SUICIDE                          1292\n",
       "FAMILY OFFENSES                  1183\n",
       "BAD CHECKS                        925\n",
       "BRIBERY                           813\n",
       "EXTORTION                         741\n",
       "SEX OFFENSES, NON FORCIBLE        431\n",
       "GAMBLING                          348\n",
       "PORNOGRAPHY/OBSCENE MAT            59\n",
       "TREA                               14\n",
       "Name: Category, dtype: int64"
      ]
     },
     "execution_count": 8,
     "metadata": {},
     "output_type": "execute_result"
    }
   ],
   "source": [
    "data['Category'].value_counts()"
   ]
  },
  {
   "cell_type": "code",
   "execution_count": 9,
   "metadata": {},
   "outputs": [
    {
     "data": {
      "text/plain": [
       "'Most occurring: LARCENY/THEFT'"
      ]
     },
     "execution_count": 9,
     "metadata": {},
     "output_type": "execute_result"
    }
   ],
   "source": [
    "f\"Most occurring: {data['Category'].value_counts().idxmax()}\""
   ]
  },
  {
   "cell_type": "code",
   "execution_count": 10,
   "metadata": {},
   "outputs": [
    {
     "data": {
      "text/plain": [
       "'Least occurring: TREA'"
      ]
     },
     "execution_count": 10,
     "metadata": {},
     "output_type": "execute_result"
    }
   ],
   "source": [
    "f\"Least occurring: {data['Category'].value_counts().idxmin()}\""
   ]
  },
  {
   "cell_type": "markdown",
   "metadata": {},
   "source": [
    "### Create a histogram over crime occurrences"
   ]
  },
  {
   "cell_type": "code",
   "execution_count": 11,
   "metadata": {},
   "outputs": [
    {
     "data": {
      "text/plain": [
       "<Figure size 2000x300 with 1 Axes>"
      ]
     },
     "metadata": {},
     "output_type": "display_data"
    }
   ],
   "source": [
    "import matplotlib.pyplot as plt\n",
    "plt.rcParams[\"figure.figsize\"] = (20,3)\n",
    "values = data['Category'].value_counts().sort_values(0, ascending = False)\n",
    "ax = plt.bar(values.index, values.values)\n",
    "plt.xticks(rotation=90)\n",
    "plt.show()"
   ]
  },
  {
   "cell_type": "markdown",
   "metadata": {},
   "source": [
    "### To start off easily, let's count the number of crimes per year for the years 2003-2017 (since we don't have full data for 2018). What's the average number of crimes per year?"
   ]
  },
  {
   "cell_type": "code",
   "execution_count": 12,
   "metadata": {},
   "outputs": [
    {
     "data": {
      "text/plain": [
       "Date\n",
       "2003    149176\n",
       "2004    148148\n",
       "2005    142186\n",
       "2006    137853\n",
       "2007    137639\n",
       "2008    141311\n",
       "2009    139860\n",
       "2010    133523\n",
       "2011    132697\n",
       "2012    140847\n",
       "2013    152806\n",
       "2014    150128\n",
       "2015    156526\n",
       "2016    150883\n",
       "2017    154773\n",
       "2018     46668\n",
       "Name: IncidntNum, dtype: int64"
      ]
     },
     "execution_count": 12,
     "metadata": {},
     "output_type": "execute_result"
    }
   ],
   "source": [
    "data.groupby(data.Date.dt.year)['IncidntNum'].count()"
   ]
  },
  {
   "cell_type": "code",
   "execution_count": 13,
   "metadata": {},
   "outputs": [
    {
     "data": {
      "text/plain": [
       "138439.0"
      ]
     },
     "execution_count": 13,
     "metadata": {},
     "output_type": "execute_result"
    }
   ],
   "source": [
    "data.groupby(data.Date.dt.year)['IncidntNum'].count().mean()"
   ]
  },
  {
   "cell_type": "markdown",
   "metadata": {},
   "source": [
    "### Now create bar-charts displaying the year-by-year development of each of these categories across the years 2003-2017."
   ]
  },
  {
   "cell_type": "code",
   "execution_count": 14,
   "metadata": {},
   "outputs": [],
   "source": [
    "focuscrimes = set(['WEAPON LAWS', 'PROSTITUTION', 'DRIVING UNDER THE INFLUENCE', 'ROBBERY', 'BURGLARY', 'ASSAULT', 'DRUNKENNESS', 'DRUG/NARCOTIC', 'TRESPASS', 'LARCENY/THEFT', 'VANDALISM', 'VEHICLE THEFT', 'STOLEN PROPERTY', 'DISORDERLY CONDUCT'])"
   ]
  },
  {
   "cell_type": "code",
   "execution_count": 15,
   "metadata": {},
   "outputs": [
    {
     "data": {
      "image/png": "[encoded data removed]",
      "text/plain": [
       "<Figure size 1080x4320 with 14 Axes>"
      ]
     },
     "metadata": {
      "needs_background": "light"
     },
     "output_type": "display_data"
    }
   ],
   "source": [
    "import matplotlib.pyplot as plt\n",
    "import numpy as np\n",
    "\n",
    "fig = plt.figure(figsize=(15, 60))\n",
    "pos = np.arange(len(focuscrimes))\n",
    "\n",
    "for i, category in enumerate(focuscrimes):\n",
    "    ax = plt.subplot(len(focuscrimes), 2, i + 1)\n",
    "    ax.text(.01, .9, category, transform=ax.transAxes)\n",
    "    \n",
    "    values = data[data['Category']==category].groupby(data.Date.dt.year)['IncidntNum'].count()\n",
    "    ax.bar(list(map(lambda index: str(index), values.index)), values.values, align='center')\n",
    "    ax.margins(y=0.2)\n",
    "    \n",
    "    if (i is (len(focuscrimes) - 1)) or (i is (len(focuscrimes)-2)):\n",
    "        plt.xticks(rotation=90)\n",
    "    else:\n",
    "        plt.xticks([])\n",
    "\n",
    "plt.show()"
   ]
  },
  {
   "cell_type": "code",
   "execution_count": 16,
   "metadata": {},
   "outputs": [
    {
     "data": {
      "text/plain": [
       "([<matplotlib.axis.XTick at 0x116a40b38>,\n",
       "  <matplotlib.axis.XTick at 0x116a402b0>,\n",
       "  <matplotlib.axis.XTick at 0x102508978>,\n",
       "  <matplotlib.axis.XTick at 0x113ffff60>],\n",
       " <a list of 4 Text xticklabel objects>)"
      ]
     },
     "execution_count": 16,
     "metadata": {},
     "output_type": "execute_result"
    },
    {
     "data": {
      "text/plain": [
       "<Figure size 1080x4320 with 0 Axes>"
      ]
     },
     "metadata": {},
     "output_type": "display_data"
    },
    {
     "data": {
      "image/png": "[encoded data removed]",
      "text/plain": [
       "<Figure size 432x288 with 14 Axes>"
      ]
     },
     "metadata": {
      "needs_background": "light"
     },
     "output_type": "display_data"
    }
   ],
   "source": [
    "import matplotlib.pyplot as plt\n",
    "import numpy as np\n",
    "\n",
    "fig = plt.figure(figsize=(15, 60))\n",
    "pos = np.arange(2013,2017)\n",
    "\n",
    "cols = 2\n",
    "f, axes = plt.subplots(int(len(focuscrimes)/cols), cols, sharex=True)\n",
    "\n",
    "row = 0\n",
    "col = 0\n",
    "for category in focuscrimes:\n",
    "    if(col >= cols):\n",
    "        row+=1\n",
    "        col=0\n",
    "        \n",
    "    #axes[row][col].set_title(category, transform=ax.transAxes)  \n",
    "    values = data[data['Category']==category].groupby(data.Date.dt.year)['IncidntNum'].count()\n",
    "    axes[row][col].bar(list(map(lambda index: str(index), values.index)), values.values, align='center')\n",
    "    axes[row][col].margins(0.2)\n",
    "    \n",
    "    col += 1\n",
    "plt.xticks(pos, values.index, rotation=90)"
   ]
  },
  {
   "cell_type": "markdown",
   "metadata": {},
   "source": [
    "### So now we'll be combining information about PdDistrict and Category to explore differences between SF's >neighborhoods. First, simply list the names of SF's 10 police districts."
   ]
  },
  {
   "cell_type": "code",
   "execution_count": 61,
   "metadata": {},
   "outputs": [],
   "source": [
    "crimes = data['Category'].unique()"
   ]
  },
  {
   "cell_type": "code",
   "execution_count": 97,
   "metadata": {},
   "outputs": [],
   "source": [
    "districts = data.ffill()['PdDistrict'].unique()"
   ]
  },
  {
   "cell_type": "markdown",
   "metadata": {},
   "source": [
    "### Which has the most crimes? Which has the most focus crimes?"
   ]
  },
  {
   "cell_type": "code",
   "execution_count": 21,
   "metadata": {},
   "outputs": [
    {
     "data": {
      "text/plain": [
       "'SOUTHERN'"
      ]
     },
     "execution_count": 21,
     "metadata": {},
     "output_type": "execute_result"
    }
   ],
   "source": [
    "data.groupby('PdDistrict')['IncidntNum'].count().idxmax()"
   ]
  },
  {
   "cell_type": "code",
   "execution_count": 28,
   "metadata": {},
   "outputs": [
    {
     "data": {
      "text/plain": [
       "'SOUTHERN'"
      ]
     },
     "execution_count": 28,
     "metadata": {},
     "output_type": "execute_result"
    }
   ],
   "source": [
    "data[data['Category'].isin(focuscrimes)].groupby('PdDistrict')['IncidntNum'].count().idxmax()"
   ]
  },
  {
   "cell_type": "markdown",
   "metadata": {},
   "source": [
    "### First, we need to calculate the relative probabilities of seeing each type of crime in the dataset as a whole. > That's simply a normalized version of this plot. Let's call it P(crime)"
   ]
  },
  {
   "cell_type": "code",
   "execution_count": 53,
   "metadata": {},
   "outputs": [],
   "source": [
    "p_crime = data.groupby('Category')['IncidntNum'].count().divide(data['IncidntNum'].nunique())"
   ]
  },
  {
   "cell_type": "markdown",
   "metadata": {},
   "source": [
    "### Next, we calculate that same probability distribution but for each PD district, let's call that P(crime|district)"
   ]
  },
  {
   "cell_type": "code",
   "execution_count": 69,
   "metadata": {},
   "outputs": [],
   "source": [
    "p_crime_district = {}\n",
    "for district in districts:\n",
    "    p_crime_district[district] = {}"
   ]
  },
  {
   "cell_type": "code",
   "execution_count": 70,
   "metadata": {},
   "outputs": [
    {
     "data": {
      "text/plain": [
       "Category\n",
       "ARSON                          0.001745\n",
       "ASSAULT                        0.095224\n",
       "BAD CHECKS                     0.000629\n",
       "BRIBERY                        0.000244\n",
       "BURGLARY                       0.064759\n",
       "DISORDERLY CONDUCT             0.005132\n",
       "DRIVING UNDER THE INFLUENCE    0.002713\n",
       "DRUG/NARCOTIC                  0.048616\n",
       "DRUNKENNESS                    0.003694\n",
       "EMBEZZLEMENT                   0.001492\n",
       "EXTORTION                      0.000294\n",
       "FAMILY OFFENSES                0.000280\n",
       "FORGERY/COUNTERFEITING         0.012802\n",
       "FRAUD                          0.024292\n",
       "GAMBLING                       0.000104\n",
       "KIDNAPPING                     0.002442\n",
       "LARCENY/THEFT                  0.366226\n",
       "LIQUOR LAWS                    0.001212\n",
       "LOITERING                      0.001840\n",
       "MISSING PERSON                 0.021963\n",
       "NON-CRIMINAL                   0.119765\n",
       "OTHER OFFENSES                 0.140059\n",
       "PORNOGRAPHY/OBSCENE MAT        0.000032\n",
       "PROSTITUTION                   0.018061\n",
       "RECOVERED VEHICLE              0.003613\n",
       "ROBBERY                        0.029248\n",
       "RUNAWAY                        0.000913\n",
       "SECONDARY CODES                0.011423\n",
       "SEX OFFENSES, FORCIBLE         0.005458\n",
       "SEX OFFENSES, NON FORCIBLE     0.000145\n",
       "STOLEN PROPERTY                0.008316\n",
       "SUICIDE                        0.000846\n",
       "SUSPICIOUS OCC                 0.038016\n",
       "TREA                           0.000005\n",
       "TRESPASS                       0.009858\n",
       "VANDALISM                      0.065718\n",
       "VEHICLE THEFT                  0.067016\n",
       "WARRANTS                       0.049868\n",
       "WEAPON LAWS                    0.009139\n",
       "Name: IncidntNum, dtype: float64"
      ]
     },
     "execution_count": 70,
     "metadata": {},
     "output_type": "execute_result"
    }
   ],
   "source": [
    "for district in districts:\n",
    "    district_data = data[data['PdDistrict'] == district]\n",
    "    p_crime_district[district] = district_data.groupby('Category')['IncidntNum'].count().divide(district_data['IncidntNum'].nunique())"
   ]
  },
  {
   "cell_type": "markdown",
   "metadata": {},
   "source": [
    "### Now we look at the ratio P(crime|district)/P(crime). That ratio is equal to 1 if the crime occurs at the same level within a district as in the city as a whole. If it's greater than one, it means that the crime occurs more frequently within that district. If it's smaller than one, it means that the crime is rarer within the district in question than in the city as a whole."
   ]
  },
  {
   "cell_type": "code",
   "execution_count": 75,
   "metadata": {},
   "outputs": [],
   "source": [
    "p_crime_district_crime = {}\n",
    "for district in districts:\n",
    "    p_crime_district_crime[district] = p_crime_district[district].divide(p_crime)"
   ]
  },
  {
   "cell_type": "code",
   "execution_count": 83,
   "metadata": {},
   "outputs": [
    {
     "data": {
      "text/plain": [
       "Category\n",
       "WEAPON LAWS                    1.216085\n",
       "PROSTITUTION                   3.388150\n",
       "DRIVING UNDER THE INFLUENCE    1.223342\n",
       "ASSAULT                        1.127579\n",
       "VEHICLE THEFT                  1.044001\n",
       "DRUNKENNESS                    1.401469\n",
       "ROBBERY                        1.209810\n",
       "VANDALISM                      0.923082\n",
       "DRUG/NARCOTIC                  1.227052\n",
       "STOLEN PROPERTY                1.016374\n",
       "TRESPASS                       1.176161\n",
       "LARCENY/THEFT                  0.777030\n",
       "BURGLARY                       0.801962\n",
       "DISORDERLY CONDUCT             1.982968\n",
       "Name: IncidntNum, dtype: float64"
      ]
     },
     "execution_count": 83,
     "metadata": {},
     "output_type": "execute_result"
    }
   ],
   "source": [
    "array = p_crime_district_crime['MISSION']\n",
    "array[focuscrimes]"
   ]
  },
  {
   "cell_type": "markdown",
   "metadata": {},
   "source": [
    "### For each district plot these ratios for the 14 focus crimes. My plot looks like this"
   ]
  },
  {
   "cell_type": "code",
   "execution_count": 103,
   "metadata": {},
   "outputs": [
    {
     "data": {
      "image/png": "[encoded data removed]",
      "text/plain": [
       "<Figure size 1080x2160 with 10 Axes>"
      ]
     },
     "metadata": {
      "needs_background": "light"
     },
     "output_type": "display_data"
    }
   ],
   "source": [
    "import matplotlib.pyplot as plt\n",
    "import numpy as np\n",
    "\n",
    "fig = plt.figure(figsize=(15, 30))\n",
    "pos = np.arange(len(districts))\n",
    "\n",
    "for i, district in enumerate(districts):\n",
    "    ax = plt.subplot(len(districts), 2, i + 1)\n",
    "    ax.text(.01, .9, district, transform=ax.transAxes)\n",
    "    \n",
    "    values = p_crime_district_crime[district][focuscrimes].sort_index()\n",
    "    ax.bar(values.index, values.values, align='center')\n",
    "    ax.margins(y=0.2)\n",
    "    \n",
    "    if (i is (len(districts) - 1)) or (i is (len(districts)-2)):\n",
    "        plt.xticks(rotation=90)\n",
    "    else:\n",
    "        plt.xticks([])\n",
    "\n",
    "plt.show()"
   ]
  },
  {
   "cell_type": "code",
   "execution_count": 98,
   "metadata": {},
   "outputs": [
    {
     "data": {
      "text/plain": [
       "array(['MISSION', 'TENDERLOIN', 'NORTHERN', 'RICHMOND', 'BAYVIEW',\n",
       "       'CENTRAL', 'PARK', 'TARAVAL', 'SOUTHERN', 'INGLESIDE'],\n",
       "      dtype=object)"
      ]
     },
     "execution_count": 98,
     "metadata": {},
     "output_type": "execute_result"
    }
   ],
   "source": [
    "districts"
   ]
  }
 ],
 "metadata": {
  "kernelspec": {
   "display_name": "Python 3",
   "language": "python",
   "name": "python3"
  },
  "language_info": {
   "codemirror_mode": {
    "name": "ipython",
    "version": 3
   },
   "file_extension": ".py",
   "mimetype": "text/x-python",
   "name": "python",
   "nbconvert_exporter": "python",
   "pygments_lexer": "ipython3",
   "version": "3.7.1"
  }
 },
 "nbformat": 4,
 "nbformat_minor": 2
}
